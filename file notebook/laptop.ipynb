{
 "cells": [
  {
   "cell_type": "markdown",
   "metadata": {},
   "source": [
    "<h1><b>Đồ án thu thập dữ liệu</b></h1>\n",
    "Thông tin nhóm:\n"
   ]
  },
  {
   "cell_type": "markdown",
   "metadata": {},
   "source": [
    "<h2><b>Mô tả đồ án</b><h2>"
   ]
  },
  {
   "cell_type": "markdown",
   "metadata": {},
   "source": [
    "Bổ sung sau"
   ]
  },
  {
   "cell_type": "markdown",
   "metadata": {},
   "source": [
    "<h2><b>Thu thập dữ liệu</b></h2>\n",
    "\n",
    "Dữ liệu thu thập về giá của laptop và được lấy từ trên kaggle.\n",
    "\n",
    "- Link: https://www.kaggle.com/datasets/mohidabdulrehman/laptop-price-dataset\n",
    "\n",
    "License: CPO: Public Domain.\n",
    "\n",
    "Dữ liệu được thu thập dựa trên kích thước màn hình, CPU, RAM, Memory, GP, OS, Giá tại Ấn Độ."
   ]
  },
  {
   "cell_type": "markdown",
   "metadata": {},
   "source": [
    "<b><h2>Khám phá dữ liệu</b></h2>"
   ]
  },
  {
   "cell_type": "markdown",
   "metadata": {},
   "source": [
    "<b>improt các thư viện</b>\n"
   ]
  },
  {
   "cell_type": "code",
   "execution_count": null,
   "metadata": {},
   "outputs": [],
   "source": [
    "import pandas as pd"
   ]
  },
  {
   "cell_type": "markdown",
   "metadata": {},
   "source": [
    "<b>Đọc dữ liệu vào biến `df_laptop` bằng pandas.</b>"
   ]
  },
  {
   "cell_type": "code",
   "execution_count": null,
   "metadata": {},
   "outputs": [],
   "source": [
    "#   YOUR CODE HEAR\n",
    "df_laptop = pd.read_csv('laptop_data.csv')\n",
    "df_laptop.head(5)"
   ]
  },
  {
   "cell_type": "markdown",
   "metadata": {},
   "source": [
    "<b>Dữ liệu gồm bao nhiêu dòng và cột, lưu số dòng và số cột vào 2 biến `num_rows` và `num_cols`.</b>"
   ]
  },
  {
   "cell_type": "code",
   "execution_count": null,
   "metadata": {},
   "outputs": [],
   "source": [
    "#   YOUR CODE HEAR\n",
    "num_rows = df_laptop.shape[0]\n",
    "num_cols = df_laptop.shape[1]\n",
    "print(num_cols)\n",
    "print(num_rows)"
   ]
  },
  {
   "cell_type": "markdown",
   "metadata": {},
   "source": [
    "Mỗi dòng ở đây là thể hiện cho một loại laptop.\n",
    "\n",
    "Các cột thể hiện cho các loại thông số của chiếc laptop đó.\n",
    "\n",
    "Có vẻ các dòng và cột đều không có vấn đề, chúng ta tiếp tục khám phá dữ liệu"
   ]
  },
  {
   "cell_type": "markdown",
   "metadata": {},
   "source": [
    "<b>Các dòng của dữ liệu có bị lặp không, lưu vào biến `have_duplicated_rows` là `False` nếu không lặp và ngược lại.</b>"
   ]
  },
  {
   "cell_type": "code",
   "execution_count": null,
   "metadata": {},
   "outputs": [],
   "source": [
    "#   YOUR CODE HEAR\n",
    "have_duplicated_rows = False\n",
    "if df_laptop[df_laptop.duplicated()].empty == True:\n",
    "    have_duplicated_rows == True\n",
    "print(have_duplicated_rows)"
   ]
  },
  {
   "cell_type": "markdown",
   "metadata": {},
   "source": [
    "<b>Mỗi cột hiện đang có kiểu dữ liệu gì? Có cột nào có kiểu dữ liệu chưa phù hợp để có thể xử lý tiếp không?</b>\n",
    "\n",
    "Lưu giá trị của các kiểu dữ liệu vào biến `col_dtypes`."
   ]
  },
  {
   "cell_type": "code",
   "execution_count": null,
   "metadata": {},
   "outputs": [],
   "source": [
    "#   YOUR CODE HEAR\n",
    "df_laptop.dtypes\n",
    "col_dtypes = df_laptop.dtypes\n",
    "print(col_dtypes)"
   ]
  },
  {
   "cell_type": "markdown",
   "metadata": {},
   "source": [
    "<b>Tìm kiếm kiểu dữ liệu thật sự của các cột có dtype là object.</b>"
   ]
  },
  {
   "cell_type": "code",
   "execution_count": null,
   "metadata": {},
   "outputs": [],
   "source": [
    "# YOUR CODE HERE\n",
    "def open_object_dtype(s):\n",
    "    dtypes = set()\n",
    "    s.apply(lambda x : dtypes.add(type(x)))\n",
    "    return dtypes\n",
    "\n",
    "for i in df_laptop.columns:\n",
    "    print(open_object_dtype(df_laptop[i]))"
   ]
  },
  {
   "cell_type": "markdown",
   "metadata": {},
   "source": [
    "Ta có thể thấy những vấn đề sau khi khám phá:\n",
    "- Có cột unnamed có giá trị tương ứng là số thứ tự nên ta sẽ xóa cột này.\n",
    "- Vì tỉ giá là tiền Ấn độ nên có lẽ sẽ khó so sánh, chúng ta nên đổi qua tỉ giá USD để thuận tiện hơn cho việc sử dụng sau này.\n",
    "- Các cột object đều là str, việc này khá thuận tiện nên ta không cần tiền xử lí mà có thể dùng chúng để thực hiện trả lời các câu hỏi bên dưới.\n"
   ]
  },
  {
   "cell_type": "markdown",
   "metadata": {},
   "source": [
    "<h2><b>Tiền xử lí dữ liệu </b></h2>"
   ]
  },
  {
   "cell_type": "markdown",
   "metadata": {},
   "source": [
    "<b>Xóa cột unnamed</b>"
   ]
  },
  {
   "cell_type": "code",
   "execution_count": null,
   "metadata": {},
   "outputs": [],
   "source": [
    "# YOUR CODE HEAR\n",
    "df_laptop.drop(df_laptop.columns[df_laptop.columns.str.contains('unnamed',case = False)],axis = 1, inplace = True)\n",
    "df_laptop.head(5)"
   ]
  },
  {
   "cell_type": "markdown",
   "metadata": {},
   "source": [
    "<b>Đổi tiền sang tỉ giá USD với tỉ lệ quy đổi: 1.0 INR = 0.01224USD</b>"
   ]
  },
  {
   "cell_type": "code",
   "execution_count": null,
   "metadata": {},
   "outputs": [],
   "source": [
    "# YOUR CODE HERE\n",
    "df_laptop['Price'] = df_laptop['Price'].apply(lambda x : x * 0.01224)\n",
    "\n",
    "print(df_laptop['Price'])"
   ]
  },
  {
   "cell_type": "markdown",
   "metadata": {},
   "source": [
    "<b><h2>Khám phá dữ liệu ( Tiếp tục )</h2></b>"
   ]
  },
  {
   "cell_type": "markdown",
   "metadata": {},
   "source": [
    "<b>Với mỗi cột có kiểu dữ liệu dạng numeric, các giá trị được phân bố như thế nào?</b>\n",
    "\n",
    "Các cột dạng numeric là: Inches, Price.\n",
    "\n",
    "Với mỗi cột numeric bạn sẽ tính tỉ lệ % giá trị thiếu (từ 0 đến 100), min, max. Bạn lưu kết quả vào dataframe `nume_col_profiles_df`. Dataframe này có 3 dòng là \"missing_ratio\", \"min\", \"max\"; và có 2 cột là \"Inches\", \"Price \"."
   ]
  },
  {
   "cell_type": "code",
   "execution_count": null,
   "metadata": {},
   "outputs": [],
   "source": [
    "# YOUR CODE HEAR\n",
    "# YOUR CODE HERE\n",
    "nume_col_profiles_df = pd.DataFrame(\n",
    "    index=pd.Index(['missing_ratio', 'min','max']),\n",
    ")\n",
    "def col_profile(df):\n",
    "    missing_ratio = (df.isnull().sum() / df.shape[0]) * 100\n",
    "    min = df.min()\n",
    "    max = df.max()\n",
    "    result = [missing_ratio,min,max]\n",
    "    return result\n",
    "\n",
    "   \n",
    "nume_col_profiles_df['Inches'] = col_profile(df_laptop['Inches'])\n",
    "nume_col_profiles_df['Price'] = col_profile(df_laptop['Price'])\n",
    "\n",
    "print(nume_col_profiles_df)"
   ]
  },
  {
   "cell_type": "markdown",
   "metadata": {},
   "source": [
    "<b>Với mỗi cột có kiểu dữ liệu dạng categorical, các giá trị được phân bố như thế nào?</b>\n",
    "\n",
    "Với mỗi cột dạng categorical, bạn tính tỉ lệ % giá trị thiếu (từ 0 đến 100), số lượng giá trị khác nhau (không xét giá trị thiếu), list/array các giá trị khác nhau (không xét giá trị thiếu). Bạn lưu kết quả vào dataframe `cate_col_profiles_df`. Dataframe này có 3 dòng là \"missing_ratio\", \"num_diff_vals\", \"diff_vals\"; và có 9 cột là \"Company\", \"TypeName\", \"ScreenResolution\", \"Cpu\", \"Ram\", \"Memory\", \"GPU\", \"OpSys\", \"Weight\"."
   ]
  },
  {
   "cell_type": "code",
   "execution_count": null,
   "metadata": {},
   "outputs": [],
   "source": [
    "# YOUR CODE HEAR\n",
    "# YOUR CODE HERE\n",
    "cate_col_profiles_df = pd.DataFrame(\n",
    "    index = pd.Index(['missing_ratio','num_diff_vals','diff_vals'])\n",
    ")\n",
    "def cate_col_profile(df):\n",
    "    missing_ratio = (df.isnull().sum() / df.shape[0]) * 100\n",
    "    num_diff_vals = df.nunique()\n",
    "    temp = df\n",
    "    temp = temp.dropna()\n",
    "    diff_vals = set(temp)\n",
    "    result = [missing_ratio,num_diff_vals,diff_vals]\n",
    "    return result\n",
    "for i in df_laptop.columns:\n",
    "    if type(df_laptop[i][0]) == str:\n",
    "        cate_col_profiles_df[i] = cate_col_profile(df_laptop[i])\n",
    "print(cate_col_profiles_df)\n",
    "print(df_laptop['Company'].unique())\n",
    "print(df_laptop['Inches'].unique())"
   ]
  },
  {
   "cell_type": "markdown",
   "metadata": {},
   "source": [
    "Có vẻ như không có gì bất thường ở dữ liệu cả, tiếp theo ta sẽ đi đến bước đưa ra những câu hỏi về dữ liệu."
   ]
  },
  {
   "cell_type": "markdown",
   "metadata": {},
   "source": [
    "<h2><b>Đưa ra những câu hỏi về dữ liệu</b></h2>\n",
    "\n",
    "- Giá cả luôn là vấn đề mà mọi người quan tâm khi mua hàng, vậy hay thống kê 10 loại laptop có giá gần với giá trung bình nhất. Lưu tất cả các cột của laptop đó và một dataframe tên là `df_affordable_price`.\n",
    "- Hãy liệt kê những 10 loại CPU, RAM, kích cỡ màn hình, Bộ nhớ, hệ điều hành được ưa chuộng nhất vào một dataframe `df_favorites` với cột là những thông số trên.\n",
    "- Cuộc chiến giữa AMD và Intel chưa bao giờ mất đi sức nóng của nó, vậy ở đây hãy thử tìm hiểu tỉ lệ sử dụng chip amd và intel của từng hãng là bao nhiêu. Lưu vào một dataframe `df_cpu` với cột là `Intel`, `AMD` và dòng là các hãng với index là số lượng máy sử dụng cpu hãng đó. Sau đó hãy vẽ một biểu đồ cột\n",
    "thể hiện điều này và một biểu đồ pie để thể hiện giá trị phần trăm."
   ]
  }
 ],
 "metadata": {
  "kernelspec": {
   "display_name": "Python 3.9.0 64-bit",
   "language": "python",
   "name": "python3"
  },
  "language_info": {
   "codemirror_mode": {
    "name": "ipython",
    "version": 3
   },
   "file_extension": ".py",
   "mimetype": "text/x-python",
   "name": "python",
   "nbconvert_exporter": "python",
   "pygments_lexer": "ipython3",
   "version": "3.9.0"
  },
  "orig_nbformat": 4,
  "vscode": {
   "interpreter": {
    "hash": "6f0405dd55fe551edf6ef7ed620dd0db247e1c02a63f3f08a6428c3e43caeaee"
   }
  }
 },
 "nbformat": 4,
 "nbformat_minor": 2
}
